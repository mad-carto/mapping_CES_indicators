{
 "cells": [
  {
   "cell_type": "markdown",
   "metadata": {
    "tags": []
   },
   "source": [
    "# S3 - Generate Chi Value Expectation Surface\n",
    "\n",
    "This notebook is part of the Supplementary Material provided for the paper\n",
    "_Mapping indicators of cultural ecosystem services use in urban green spaces based on text classification of geosocial media data_ published in the Ecosystem Services: Science, Policy & Practice Journal. This includes the HTML conversions of a series of three Jupyter notebooks as follows: \n",
    "\n",
    "    1. S1_GSM_Data_Processing&LanguageModelTraining.html\n",
    "    2. S2_GSM_Data_TextClassification.html\n",
    "    3. S3_Generate_ChiValueExpectationSurface.html\n",
    "https://doi.org/10.1016/j.ecoser.2022.101508"
   ]
  },
  {
   "cell_type": "markdown",
   "metadata": {},
   "source": [
    "In this Notebook the following processes are addressed:\n",
    "\n",
    "    1. Spatial Join between classified geosocial media posts located in green spaces and a hexagonal grid for the city of Dresden\n",
    "    2. Aggregate classified geosocial media posts and calculate photo-user-days for each grid cell\n",
    "    3. Compute chi expectation surface"
   ]
  },
  {
   "cell_type": "markdown",
   "metadata": {
    "tags": []
   },
   "source": [
    "**INPUT DATA:**\n",
    "- hexagonal grid with the cell side length of 250 meters (.geojson file)  - was generated using ArcGIS Pro (version 2.9.3)\n",
    "- classified Instagram and Flickr textual annotations in English and German (.csv file) that are located in the green spaces of Dresden\n",
    "    \n",
    "**OUTPUT:**\n",
    "- Grid geometry with statistics - PUD, chi expectation values (.geojson file)\n"
   ]
  },
  {
   "cell_type": "code",
   "execution_count": 2,
   "metadata": {
    "tags": []
   },
   "outputs": [
    {
     "data": {
      "text/markdown": [
       "**Last update: 2023-01-02**"
      ],
      "text/plain": [
       "<IPython.core.display.Markdown object>"
      ]
     },
     "metadata": {},
     "output_type": "display_data"
    }
   ],
   "source": [
    "import datetime as dt\n",
    "from IPython.display import clear_output, display, Markdown\n",
    "date = dt.date.today()\n",
    "display(Markdown(f'**Last update: {date}**'))"
   ]
  },
  {
   "cell_type": "markdown",
   "metadata": {
    "tags": []
   },
   "source": [
    "## 1. Preparations"
   ]
  },
  {
   "cell_type": "markdown",
   "metadata": {},
   "source": [
    "### 1.1. Load dependencies"
   ]
  },
  {
   "cell_type": "markdown",
   "metadata": {},
   "source": [
    " - geopandas - version 0.10.2\n",
    " - numpy - version 1.21.3\n",
    " - pandas - version 1.3.3\n",
    " - scipy - version 1.7.1"
   ]
  },
  {
   "cell_type": "code",
   "execution_count": null,
   "metadata": {},
   "outputs": [],
   "source": [
    "import geopandas as gpd\n",
    "import pandas as pd\n",
    "import os\n",
    "import sys\n",
    "from pathlib import Path\n",
    "import numpy as np"
   ]
  },
  {
   "cell_type": "code",
   "execution_count": null,
   "metadata": {},
   "outputs": [],
   "source": [
    "INPUT = Path.cwd() / '01_Input'\n",
    "OUTPUT = Path.cwd() / '02_Output'"
   ]
  },
  {
   "cell_type": "markdown",
   "metadata": {},
   "source": [
    "### 1.2. Read the .geoJSON grid file into a GeoPandas geodataframe"
   ]
  },
  {
   "cell_type": "code",
   "execution_count": null,
   "metadata": {
    "tags": []
   },
   "outputs": [],
   "source": [
    "grid_file = INPUT/'HexagonGrid_250m.geojson'\n",
    "grid = gpd.read_file(grid_file)\n",
    "polygon_id = \"GRID_ID\"\n",
    "print(f'{grid.crs}')"
   ]
  },
  {
   "cell_type": "markdown",
   "metadata": {
    "tags": []
   },
   "source": [
    "### 1.3. Parse the classified geosocial media posts into a pandas dataframe"
   ]
  },
  {
   "cell_type": "markdown",
   "metadata": {},
   "source": [
    "We are interested in the analysis of the geosocial media posts published in the urban green spaces of Dresden.  To indentify them we performed a spatial join between a dataset containing all publicly accessible green spaces in the city of Dresden (Cakir et al., 2021) and the classified Flickr and Instagram dataset (output of the notebook  [S2_GSM_Data_TextClassification.html](./S2_GSM_Data_TextClassification.ipynb). This operation was conducted using ArcGIS Pro (version 2.9.3)."
   ]
  },
  {
   "cell_type": "code",
   "execution_count": null,
   "metadata": {},
   "outputs": [],
   "source": [
    "gsm_classified_file = OUTPUT/'DD_FlickrInsta_Class_Intersect.csv'\n",
    "cols = ['origin_id', 'latitude', 'longitude', 'post_guid', 'user_guid', 'post_date','tags','post_title','post_body','post_text','aesthetic','wildlife']\n",
    "dtypes={'origin_id': str,'latitude': float, 'longitude': float,'post_guid':str, 'user_guid': str, 'post_date': str,'tags':str,'post_title':str,'post_body':str, 'post_text':str, 'aesthetic': float, 'wildlife':float}\n",
    "df = pd.read_csv(gsm_classified_file,usecols=cols, dtype=dtypes, encoding = 'utf-8')\n",
    "print(f'{len(df)} classified posts published within the green spaces of Dresden')"
   ]
  },
  {
   "cell_type": "markdown",
   "metadata": {
    "tags": []
   },
   "source": [
    "### 1.4. Transform pandas df to geopandas geodataframe and project it to the same coordinate system as the ugs geodataframe (UTM Zone 33N)"
   ]
  },
  {
   "cell_type": "code",
   "execution_count": null,
   "metadata": {},
   "outputs": [],
   "source": [
    "crs_wgs = \"EPSG:4326\"\n",
    "crs_proj = \"EPSG:32633\"\n",
    "\n",
    "# transform pandas df into geopandas geodataframe\n",
    "gsm_gdf = gpd.GeoDataFrame(df, geometry=gpd.points_from_xy(df.longitude, df.latitude), crs = crs_wgs)\n",
    "\n",
    "# project point gdf to UTM Zone 33N\n",
    "gsm=gsm_gdf.to_crs(crs_proj)\n",
    "\n",
    "# visualize to check if transformation worked\n",
    "base = grid.plot(figsize=(20,25), color='white', edgecolor='grey', linewidth=0.2)\n",
    "plot = gsm.plot(ax=base, color='blue', edgecolor ='black', linewidth=0.1)\n"
   ]
  },
  {
   "cell_type": "markdown",
   "metadata": {},
   "source": [
    "### 1.5. Preparations for the calculation of photo-user-days (PUD) "
   ]
  },
  {
   "cell_type": "code",
   "execution_count": null,
   "metadata": {},
   "outputs": [],
   "source": [
    "def create_user_days(gsm_df):\n",
    "    \"\"\" Generates a combination of day + month + user as a series\"\"\"\n",
    "\n",
    "    #concatenate user_guid + day + month + year\n",
    "    gsm_df[\"post_date\"] = pd.to_datetime(gsm_df[\"post_date\"])\n",
    "    UD = gsm_df.apply(lambda x: str(x[\"post_date\"].year) + str(x[\"post_date\"].day) \n",
    "                   + str(x[\"post_date\"].month) + \"_\" + str(x[\"user_guid\"]), axis=1)\n",
    "\n",
    "    return UD\n",
    "\n",
    "# add userday column\n",
    "gsm[\"userday\"] = create_user_days(gsm)\n",
    "gsm.head()"
   ]
  },
  {
   "cell_type": "markdown",
   "metadata": {
    "tags": []
   },
   "source": [
    "## 2. Perform Spatial Join & Calculate Statistics"
   ]
  },
  {
   "cell_type": "markdown",
   "metadata": {
    "tags": []
   },
   "source": [
    "Performs spatial join between the geosocial media posts and the hexagonal grid  and calculates number of posts (UP) and photo-user-days (PUD) for each single grid cell"
   ]
  },
  {
   "cell_type": "code",
   "execution_count": null,
   "metadata": {},
   "outputs": [],
   "source": [
    "def count_UP_per_cell(grid_join, grid_stats, post_id_col = \"post_guid\", group_col = \"GRID_ID\"):\n",
    "    up = pd.DataFrame(grid_join.groupby(group_col)[post_id_col].nunique())\n",
    "    grid_stats = pd.merge(grid_stats, up, left_on= group_col, right_index=True)\n",
    "\n",
    "    return grid_stats\n",
    "\n",
    "def count_PUD_per_cell(grid_join, grid_stats, userday_col = \"userday\", group_col = \"GRID_ID\"):\n",
    "    pud = pd.DataFrame(grid_join.groupby(group_col)[userday_col].nunique())\n",
    "    grid_stats = pd.merge(grid_stats, pud, left_on= group_col, right_index=True)\n",
    "\n",
    "    return grid_stats"
   ]
  },
  {
   "cell_type": "markdown",
   "metadata": {
    "tags": []
   },
   "source": [
    "#### 2.1. Calculate total UP & PUD"
   ]
  },
  {
   "cell_type": "code",
   "execution_count": null,
   "metadata": {},
   "outputs": [],
   "source": [
    "#perform spatial join using geopandas\n",
    "grid_join = gpd.sjoin(grid, gsm,  how=\"left\", predicate=\"intersects\")\n",
    "grid = count_UP_per_cell(grid_join, grid, post_id_col = \"post_guid\", group_col = polygon_id)\n",
    "grid = count_PUD_per_cell(grid_join, grid, userday_col=\"userday\", group_col=polygon_id)\n",
    "grid.rename(columns={\"post_guid\":\"UP\",\"userday\": \"PUD\"}, inplace=True)\n",
    "grid.head()"
   ]
  },
  {
   "cell_type": "markdown",
   "metadata": {
    "tags": []
   },
   "source": [
    "#### 2.2. Calculate UP_Insta & PUD_Insta"
   ]
  },
  {
   "cell_type": "code",
   "execution_count": null,
   "metadata": {},
   "outputs": [],
   "source": [
    "# Join Instagram posts to intersecting grid; left join which returns all combinations\n",
    "gsm_insta = gsm[gsm.origin_id == \"1\"]\n",
    "grid_join = gpd.sjoin(grid, gsm_insta,  how=\"left\", predicate=\"intersects\")\n",
    "len(gsm_insta)"
   ]
  },
  {
   "cell_type": "code",
   "execution_count": null,
   "metadata": {},
   "outputs": [],
   "source": [
    "#calculate UPs and PUDs\n",
    "grid = count_UP_per_cell(grid_join, grid, post_id_col = \"post_guid\", group_col = polygon_id)\n",
    "grid = count_PUD_per_cell(grid_join, grid, userday_col=\"userday\", group_col=polygon_id)\n",
    "grid.rename(columns={\"post_guid\":\"UP_Insta\",\"userday\": \"PUD_Insta\"}, inplace=True)\n",
    "grid.head()"
   ]
  },
  {
   "cell_type": "markdown",
   "metadata": {
    "tags": []
   },
   "source": [
    "#### 2.3. Calculate UP_Flickr & PUD_Flickr"
   ]
  },
  {
   "cell_type": "code",
   "execution_count": null,
   "metadata": {},
   "outputs": [],
   "source": [
    "# Join Flickr posts to intersecting grid; left join which returns all combinations\n",
    "gsm_flickr = gsm[gsm.origin_id == \"2\"]\n",
    "grid_join = gpd.sjoin(grid, gsm_flickr,  how=\"left\", predicate=\"intersects\")\n",
    "len(gsm_flickr)"
   ]
  },
  {
   "cell_type": "code",
   "execution_count": null,
   "metadata": {},
   "outputs": [],
   "source": [
    "#calculate UP_Flickr  and PUD_Flickr\n",
    "grid = count_UP_per_cell(grid_join, grid, post_id_col = \"post_guid\", group_col = polygon_id)\n",
    "grid = count_PUD_per_cell(grid_join, grid, userday_col=\"userday\", group_col=polygon_id)\n",
    "grid.rename(columns={\"post_guid\":\"UP_Flickr\",\"userday\": \"PUD_Flickr\"}, inplace=True)\n",
    "grid.head()"
   ]
  },
  {
   "cell_type": "markdown",
   "metadata": {
    "tags": []
   },
   "source": [
    "#### 2.4. Calculate UP_Aesthetic & PUD_Aesthetic"
   ]
  },
  {
   "cell_type": "code",
   "execution_count": null,
   "metadata": {},
   "outputs": [],
   "source": [
    "# Join all aesthetic classified posts to intersecting grid; left join which returns all combinations\n",
    "gsm_aesthetic = gsm[gsm.aesthetic == 1]\n",
    "grid_join = gpd.sjoin(grid, gsm_aesthetic,  how=\"left\", predicate=\"intersects\")\n",
    "len(gsm_aesthetic)"
   ]
  },
  {
   "cell_type": "code",
   "execution_count": null,
   "metadata": {},
   "outputs": [],
   "source": [
    "#calculate UP_Aesthetic and PUD_Aesthetic\n",
    "grid = count_UP_per_cell(grid_join, grid, post_id_col = \"post_guid\", group_col = polygon_id)\n",
    "grid = count_PUD_per_cell(grid_join, grid, userday_col=\"userday\", group_col=polygon_id)\n",
    "grid.rename(columns={\"post_guid\":\"UP_Aesthetic\",\"userday\": \"PUD_Aesthetic\"}, inplace=True)\n",
    "grid.head()"
   ]
  },
  {
   "cell_type": "markdown",
   "metadata": {
    "tags": []
   },
   "source": [
    "#### 2.5. Calculate UP_Aesthetic_Insta & PUD_Aesthetic_Insta"
   ]
  },
  {
   "cell_type": "code",
   "execution_count": null,
   "metadata": {},
   "outputs": [],
   "source": [
    "# Join Instagram aesthetic posts to intersecting grid; left join which returns all combinations\n",
    "gsm_a_insta = gsm_aesthetic[gsm_aesthetic.origin_id == \"1\"]\n",
    "grid_join = gpd.sjoin(grid, gsm_a_insta,  how=\"left\", predicate=\"intersects\")\n",
    "len(gsm_a_insta)"
   ]
  },
  {
   "cell_type": "code",
   "execution_count": null,
   "metadata": {},
   "outputs": [],
   "source": [
    "#calculate UP_Aesthetic_Insta and PUD_Aesthetic_Insta\n",
    "grid = count_UP_per_cell(grid_join, grid, post_id_col = \"post_guid\", group_col = polygon_id)\n",
    "grid = count_PUD_per_cell(grid_join, grid, userday_col=\"userday\", group_col=polygon_id)\n",
    "grid.rename(columns={\"post_guid\":\"UP_Aesthetic_Insta\",\"userday\": \"PUD_Aesthetic_Insta\"}, inplace=True)\n",
    "grid.head()"
   ]
  },
  {
   "cell_type": "markdown",
   "metadata": {
    "tags": []
   },
   "source": [
    "#### 2.6. Calculate UP_Aesthetic_Flickr & PUD_Aesthetic_Flickr"
   ]
  },
  {
   "cell_type": "code",
   "execution_count": null,
   "metadata": {},
   "outputs": [],
   "source": [
    "# Join Flickr aesthetic posts to intersecting grid; left join which returns all combinations\n",
    "gsm_a_flickr = gsm_aesthetic[gsm_aesthetic.origin_id == \"2\"]\n",
    "grid_join = gpd.sjoin(grid, gsm_a_flickr,  how=\"left\", predicate=\"intersects\")\n",
    "len(gsm_a_flickr)"
   ]
  },
  {
   "cell_type": "code",
   "execution_count": null,
   "metadata": {},
   "outputs": [],
   "source": [
    "#calculate UP_Aesthetic_Flickr and PUD_Aesthetic_Flickr\n",
    "grid = count_UP_per_cell(grid_join, grid, post_id_col = \"post_guid\", group_col = polygon_id)\n",
    "grid = count_PUD_per_cell(grid_join, grid, userday_col=\"userday\", group_col=polygon_id)\n",
    "grid.rename(columns={\"post_guid\":\"UP_Aesthetic_Flickr\",\"userday\": \"PUD_Aesthetic_Flickr\"}, inplace=True)\n",
    "grid.head()"
   ]
  },
  {
   "cell_type": "markdown",
   "metadata": {
    "tags": []
   },
   "source": [
    "#### 2.7. Calculate UP_Wildlife & PUD_Wildlife"
   ]
  },
  {
   "cell_type": "code",
   "execution_count": null,
   "metadata": {},
   "outputs": [],
   "source": [
    "# Join wildlife classified posts to intersecting grid; left join which returns all combinations\n",
    "gsm_wildlife = gsm[gsm.wildlife == 1]\n",
    "grid_join = gpd.sjoin(grid, gsm_a_flickr,  how=\"left\", predicate=\"intersects\")\n",
    "len(gsm_wildlife)"
   ]
  },
  {
   "cell_type": "code",
   "execution_count": null,
   "metadata": {},
   "outputs": [],
   "source": [
    "#calculate UP_Wildlife and PUD_Wildlife\n",
    "grid = count_UP_per_cell(grid_join, grid, post_id_col = \"post_guid\", group_col = polygon_id)\n",
    "grid = count_PUD_per_cell(grid_join, grid, userday_col=\"userday\", group_col=polygon_id)\n",
    "grid.rename(columns={\"post_guid\":\"UP_Wildlife\",\"userday\": \"PUD_Wildlife\"}, inplace=True)\n",
    "grid.head()"
   ]
  },
  {
   "cell_type": "markdown",
   "metadata": {
    "tags": []
   },
   "source": [
    "#### 2.8. Calculate UP_Wildlife_Insta & PUD_Wildlife_Insta"
   ]
  },
  {
   "cell_type": "code",
   "execution_count": null,
   "metadata": {},
   "outputs": [],
   "source": [
    "# Join Instagram wildlife posts to intersecting grid; left join which returns all combinations\n",
    "gsm_w_insta = gsm_wildlife[gsm_wildlife.origin_id == '1']\n",
    "grid_join = gpd.sjoin(grid, gsm_a_insta,  how=\"left\", predicate=\"intersects\")\n",
    "len(gsm_w_insta)"
   ]
  },
  {
   "cell_type": "code",
   "execution_count": null,
   "metadata": {},
   "outputs": [],
   "source": [
    "#calculate UP_Wildlife_Insta and PUD_Wildlife_Insta\n",
    "grid = count_UP_per_cell(grid_join, grid, post_id_col = \"post_guid\", group_col = polygon_id)\n",
    "grid = count_PUD_per_cell(grid_join, grid, userday_col=\"userday\", group_col=polygon_id)\n",
    "grid.rename(columns={\"post_guid\":\"UP_Wildlife_Insta\",\"userday\": \"PUD_Wildlife_Insta\"}, inplace=True)\n",
    "grid.head()"
   ]
  },
  {
   "cell_type": "markdown",
   "metadata": {
    "tags": []
   },
   "source": [
    "#### 2.9. Calculate UP_Wildlife_Flickr & PUD_Wildlife_Flickr"
   ]
  },
  {
   "cell_type": "code",
   "execution_count": null,
   "metadata": {},
   "outputs": [],
   "source": [
    "# Join Flickr wildlife posts to intersecting grid; left join which returns all combinations\n",
    "gsm_w_flickr = gsm_wildlife[gsm_wildlife.origin_id == '2']\n",
    "grid_join = gpd.sjoin(grid, gsm_a_flickr,  how=\"left\", predicate=\"intersects\")\n",
    "len(gsm_w_flickr)"
   ]
  },
  {
   "cell_type": "code",
   "execution_count": null,
   "metadata": {},
   "outputs": [],
   "source": [
    "#calculate UP_Wildlife_Insta and PUD_Wildlife_Insta\n",
    "grid = count_UP_per_cell(grid_join, grid, post_id_col = \"post_guid\", group_col = polygon_id)\n",
    "grid = count_PUD_per_cell(grid_join, grid, userday_col=\"userday\", group_col=polygon_id)\n",
    "grid.rename(columns={\"post_guid\":\"UP_Wildlife_Flickr\",\"userday\": \"PUD_Wildlife_Flickr\"}, inplace=True)\n",
    "grid.head()"
   ]
  },
  {
   "cell_type": "markdown",
   "metadata": {},
   "source": [
    "Save grid geodatabase to GeoJSON file"
   ]
  },
  {
   "cell_type": "code",
   "execution_count": null,
   "metadata": {},
   "outputs": [],
   "source": [
    "#save grid to geojson file\n",
    "grid.to_file(OUTPUT/\"Grid250m_Statistics_IntersectUGS.geojson\", driver = \"GeoJSON\")"
   ]
  },
  {
   "cell_type": "markdown",
   "metadata": {
    "tags": []
   },
   "source": [
    "## 3. Calculate expectation (signed chi-value) statistics"
   ]
  },
  {
   "cell_type": "markdown",
   "metadata": {},
   "source": [
    "To identify UGS which are underepresented/overrepresented for each of the two CES indicators we will calculate \n",
    "- for each category (aesthetic & wildlife) and each data source (Instagram & Flickr) we will calculate the expectation value\n"
   ]
  },
  {
   "cell_type": "code",
   "execution_count": null,
   "metadata": {},
   "outputs": [],
   "source": [
    "#open geojson file\n",
    "data_stat_file = OUTPUT/\"Grid250m_Statistics_IntersectUGS.geojson\"\n",
    "gdf = gpd.read_file(data_stat_file)\n",
    "gdf.head()"
   ]
  },
  {
   "cell_type": "markdown",
   "metadata": {},
   "source": [
    "### 3.1.Calculate total UP & UD for whole dataset and for Insta and Flickr subsets"
   ]
  },
  {
   "cell_type": "code",
   "execution_count": null,
   "metadata": {},
   "outputs": [],
   "source": [
    "N_UP= sum(gdf.UP)\n",
    "N_PUD = sum(gdf.PUD)\n",
    "#Instagram\n",
    "NI_UP = sum(gdf.UP_Insta)\n",
    "NI_PUD = sum (gdf.PUD_Insta)\n",
    "#Flickr\n",
    "NF_UP = sum(gdf.UP_Flickr)\n",
    "NF_PUD = sum(gdf.PUD_Flickr)\n",
    "\n",
    "print(N_UP,N_PUD, NI_UP,NI_PUD,NF_UP,NF_PUD)"
   ]
  },
  {
   "cell_type": "markdown",
   "metadata": {},
   "source": [
    "### 3.2.Calculate total numbers for each category"
   ]
  },
  {
   "cell_type": "code",
   "execution_count": null,
   "metadata": {},
   "outputs": [],
   "source": [
    "n_UP_A = sum(gdf.UP_Aesthetic)\n",
    "n_PUD_A = sum(gdf.PUD_Aesthetic)\n",
    "n_UP_W = sum(gdf.UP_Wildlife)\n",
    "n_PUD_W = sum(gdf.PUD_Wildlife)\n",
    "\n",
    "#Instagram subset\n",
    "nI_UP_A = sum(gdf.UP_Aesthetic_Insta)\n",
    "nI_PUD_A = sum(gdf.PUD_Aesthetic_Insta)\n",
    "nI_UP_W = sum(gdf.UP_Wildlife_Insta)\n",
    "nI_PUD_W = sum(gdf.PUD_Wildlife_Insta)\n",
    "\n",
    "#Flickr subset\n",
    "nF_UP_A = sum(gdf.UP_Aesthetic_Flickr)\n",
    "nF_PUD_A = sum(gdf.PUD_Aesthetic_Flickr)\n",
    "nF_UP_W = sum(gdf.UP_Wildlife_Flickr)\n",
    "nF_PUD_W = sum(gdf.PUD_Wildlife_Flickr)"
   ]
  },
  {
   "cell_type": "markdown",
   "metadata": {},
   "source": [
    "### Calculate signed chi value for each indicator (UP & PUD) for each of the activities (aesthetic & wildlife) "
   ]
  },
  {
   "cell_type": "code",
   "execution_count": null,
   "metadata": {},
   "outputs": [],
   "source": [
    "# taking into account the whole geosocial media data set\n",
    "#aesthetic\n",
    "gdf['A_UP_chi']= ((gdf.UP_Aesthetic * N_UP/n_UP_A) - gdf.UP)/np.sqrt(gdf.UP).astype('float64')\n",
    "gdf['A_PUD_chi'] = ((gdf.PUD_Aesthetic * N_PUD/n_PUD_A) - gdf.PUD)/np.sqrt(gdf.PUD).astype('float64')\n",
    "#wildlife\n",
    "gdf['W_UP_chi']= ((gdf.UP_Wildlife * N_UP/n_UP_W) - gdf.UP)/np.sqrt(gdf.UP).astype('float64')\n",
    "gdf['W_PUD_chi'] = ((gdf.PUD_Wildlife * N_PUD/n_PUD_W) - gdf.PUD)/np.sqrt(gdf.PUD).astype('float64')"
   ]
  },
  {
   "cell_type": "code",
   "execution_count": null,
   "metadata": {},
   "outputs": [],
   "source": [
    "#calculate signed chi value taking into account just the Instagram subset\n",
    "#aesthetic\n",
    "gdf['AI_UP_chi'] = ((gdf.UP_Aesthetic_Insta * NI_UP/nI_UP_A) - gdf.UP_Insta)/np.sqrt(gdf.UP_Insta).astype('float64')\n",
    "gdf['AI_PUD_chi'] = ((gdf.PUD_Aesthetic_Insta * NI_PUD/nI_PUD_A) - gdf.PUD_Insta)/np.sqrt(gdf.PUD_Insta).astype('float64')\n",
    "#wildlife\n",
    "gdf['WI_UP_chi'] = ((gdf.UP_Wildlife_Insta * NI_UP/nI_UP_W) - gdf.UP_Insta)/np.sqrt(gdf.UP_Insta).astype('float64')\n",
    "gdf['WI_PUD_chi'] = ((gdf.PUD_Wildlife_Insta * NI_PUD/nI_PUD_W) - gdf.PUD_Insta)/np.sqrt(gdf.PUD_Insta).astype('float64')"
   ]
  },
  {
   "cell_type": "code",
   "execution_count": null,
   "metadata": {},
   "outputs": [],
   "source": [
    "#calculate signed chi value taking into account just the Flickr subset\n",
    "#aesthetic\n",
    "gdf['AF_UP_chi'] = ((gdf.UP_Aesthetic_Flickr * NF_UP/nF_UP_A) - gdf.UP_Flickr)/np.sqrt(gdf.UP_Flickr).astype('float64')\n",
    "gdf['AF_PUD_chi'] = ((gdf.PUD_Aesthetic_Flickr * NF_PUD/nF_PUD_A) - gdf.PUD_Flickr)/np.sqrt(gdf.PUD_Flickr).astype('float64')\n",
    "#wildlife\n",
    "gdf['WF_UP_chi'] = ((gdf.UP_Wildlife_Flickr * NF_UP/nF_UP_W) - gdf.UP_Flickr)/np.sqrt(gdf.UP_Flickr).astype('float64')\n",
    "gdf['WF_PUD_chi'] = ((gdf.PUD_Wildlife_Flickr * NF_PUD/nF_PUD_W) - gdf.PUD_Flickr)/np.sqrt(gdf.PUD_Flickr).astype('float64')\n"
   ]
  },
  {
   "cell_type": "code",
   "execution_count": null,
   "metadata": {},
   "outputs": [],
   "source": [
    "gdf.head()"
   ]
  },
  {
   "cell_type": "code",
   "execution_count": null,
   "metadata": {},
   "outputs": [],
   "source": [
    "#save grid to geojson file\n",
    "gdf.to_file(OUTPUT/\"Grid250m_Chi.geojson\", driver = \"GeoJSON\")"
   ]
  },
  {
   "cell_type": "markdown",
   "metadata": {
    "tags": []
   },
   "source": [
    "#### References\n",
    "\n",
    "1. Wartmann, F.M., Mackaness, W.A., 2020. Describing and mapping where people experience tranquillity. An exploration based on interviews and Flickr photographs. Landscape Research 1–20. https://doi.org/10.1080/01426397.2020.1749250\n",
    "2. Wood, J., Dykes, J., Slingsby, A., Clarke, K., 2007. Interactive Visual Exploration of a Large Spatio-temporal Dataset: Reflections on a Geovisualization Mashup. IEEE Trans. Visual. Comput. Graphics 13, 1176–1183. https://doi.org/10.1109/TVCG.2007.70570\n",
    "3. Wood, S.A., Guerry, A.D., Silver, J.M., Lacayo, M., 2013. Using social media to quantify nature-based tourism and recreation. Sci Rep 3, 2976. https://doi.org/10.1038/srep02976\n",
    "\n"
   ]
  }
 ],
 "metadata": {
  "kernelspec": {
   "display_name": "Python 3 (ipykernel)",
   "language": "python",
   "name": "python3"
  },
  "language_info": {
   "codemirror_mode": {
    "name": "ipython",
    "version": 3
   },
   "file_extension": ".py",
   "mimetype": "text/x-python",
   "name": "python",
   "nbconvert_exporter": "python",
   "pygments_lexer": "ipython3",
   "version": "3.9.7"
  }
 },
 "nbformat": 4,
 "nbformat_minor": 4
}
